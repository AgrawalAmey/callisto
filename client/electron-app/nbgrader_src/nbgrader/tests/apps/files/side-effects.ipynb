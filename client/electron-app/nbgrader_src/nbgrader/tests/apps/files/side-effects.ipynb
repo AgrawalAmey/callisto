{
 "cells": [
  {
   "cell_type": "code",
   "execution_count": 1,
   "metadata": {
    "collapsed": false
   },
   "outputs": [],
   "source": [
    "with open(\"side-effect.txt\", \"w\") as fh:\n",
    "    fh.write(\"a side effect\")"
   ]
  }
 ],
 "metadata": {
  "kernelspec": {
   "display_name": "Python",
   "language": "python",
   "name": "python"
  }
 },
 "nbformat": 4,
 "nbformat_minor": 0
}
